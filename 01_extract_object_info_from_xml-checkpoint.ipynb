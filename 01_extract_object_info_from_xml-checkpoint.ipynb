{
 "cells": [
  {
   "cell_type": "code",
   "execution_count": 1,
   "id": "40bef301-d518-4dd9-89f4-d1a0329a6fb3",
   "metadata": {},
   "outputs": [],
   "source": [
    "import os\n",
    "from glob import glob\n",
    "import pandas as pd\n",
    "from functools import reduce\n",
    "from xml.etree import ElementTree as et "
   ]
  },
  {
   "cell_type": "code",
   "execution_count": 10,
   "id": "5bd024e7-34c8-4bc7-88e7-f385cee57492",
   "metadata": {},
   "outputs": [],
   "source": [
    "#load all xml files and store in a list\n",
    "xml_list = glob('./1_datapreparation/data_images/*.xml')\n",
    "\n",
    "#data cleaning (replace \\\\ with /)\n",
    "xml_list = list(map(lambda x: x.replace('\\\\','/'),xml_list))\n"
   ]
  },
  {
   "cell_type": "code",
   "execution_count": 11,
   "id": "f9b21160-2a53-46a8-94ce-9faac30c09aa",
   "metadata": {},
   "outputs": [
    {
     "data": {
      "text/plain": [
       "[]"
      ]
     },
     "execution_count": 11,
     "metadata": {},
     "output_type": "execute_result"
    }
   ],
   "source": [
    "xml_list"
   ]
  },
  {
   "cell_type": "code",
   "execution_count": null,
   "id": "7ae8bd72-5393-45ed-b81e-1e543c6cb9a6",
   "metadata": {},
   "outputs": [],
   "source": []
  }
 ],
 "metadata": {
  "kernelspec": {
   "display_name": "Python 3 (ipykernel)",
   "language": "python",
   "name": "python3"
  },
  "language_info": {
   "codemirror_mode": {
    "name": "ipython",
    "version": 3
   },
   "file_extension": ".py",
   "mimetype": "text/x-python",
   "name": "python",
   "nbconvert_exporter": "python",
   "pygments_lexer": "ipython3",
   "version": "3.13.1"
  }
 },
 "nbformat": 4,
 "nbformat_minor": 5
}
