{
 "cells": [
  {
   "cell_type": "code",
   "execution_count": 8,
   "id": "3602021f-1694-4feb-b522-43e4be42e75b",
   "metadata": {},
   "outputs": [],
   "source": [
    "import cv2\n",
    "from yolo_predictions import Yolo_Prediction"
   ]
  },
  {
   "cell_type": "code",
   "execution_count": 9,
   "id": "41b274c2-f90a-4fe4-be89-2ea70dd17ed5",
   "metadata": {},
   "outputs": [],
   "source": [
    "yolo = Yolo_Prediction('./YOLOV5_Model/weights/best.onnx','data_yaml')"
   ]
  },
  {
   "cell_type": "code",
   "execution_count": 10,
   "id": "4959d7ad-9a19-4e3a-82af-5561662a9952",
   "metadata": {},
   "outputs": [],
   "source": [
    "img = cv2.imread('./streetnew.jpg')\n",
    "#img = cv2.imread('./aeroplane.jpg')\n",
    "\n",
    "cv2.imshow('img',img)\n",
    "cv2.waitKey(0)\n",
    "cv2.destroyAllWindows()"
   ]
  },
  {
   "cell_type": "code",
   "execution_count": 11,
   "id": "e29e4c37-290e-438b-95d9-73713ae9fcde",
   "metadata": {},
   "outputs": [],
   "source": [
    "#prediction\n",
    "img_pred = yolo.predictions(img)"
   ]
  },
  {
   "cell_type": "code",
   "execution_count": 12,
   "id": "969fcdfb-deb6-4514-aea7-1247564c37c4",
   "metadata": {},
   "outputs": [],
   "source": [
    "cv2.imshow('prediction_img',img_pred)\n",
    "cv2.waitKey(0)\n",
    "cv2.destroyAllWindows()"
   ]
  },
  {
   "cell_type": "code",
   "execution_count": 13,
   "id": "0e2b4efd-ab7d-4b9a-8df1-22b0a1133113",
   "metadata": {},
   "outputs": [],
   "source": [
    "# Real time object detections\n",
    "\n",
    "cap = cv2.VideoCapture('video.mp4')\n",
    "\n",
    "while True:\n",
    "    ret,frame = cap.read()\n",
    "    if ret==False:\n",
    "        print('Unable to read video')\n",
    "        break\n",
    "\n",
    "    pred_image = yolo.predictions(frame)\n",
    "\n",
    "    cv2.imshow('YOLO', pred_image)\n",
    "    if cv2.waitKey(1) == 27:\n",
    "        break\n",
    "        \n",
    "cv2.destroyAllWindows()\n",
    "cap.release()"
   ]
  },
  {
   "cell_type": "code",
   "execution_count": null,
   "id": "95f819e2-368c-4412-8503-77c4d7d5fcd0",
   "metadata": {},
   "outputs": [],
   "source": []
  }
 ],
 "metadata": {
  "kernelspec": {
   "display_name": "Python 3 (ipykernel)",
   "language": "python",
   "name": "python3"
  },
  "language_info": {
   "codemirror_mode": {
    "name": "ipython",
    "version": 3
   },
   "file_extension": ".py",
   "mimetype": "text/x-python",
   "name": "python",
   "nbconvert_exporter": "python",
   "pygments_lexer": "ipython3",
   "version": "3.13.1"
  }
 },
 "nbformat": 4,
 "nbformat_minor": 5
}
